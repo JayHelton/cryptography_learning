{
 "metadata": {
  "language_info": {
   "codemirror_mode": {
    "name": "ipython",
    "version": 3
   },
   "file_extension": ".py",
   "mimetype": "text/x-python",
   "name": "python",
   "nbconvert_exporter": "python",
   "pygments_lexer": "ipython3",
   "version": "3.8.5-final"
  },
  "orig_nbformat": 2,
  "kernelspec": {
   "name": "python3",
   "display_name": "Python 3.8.5 64-bit",
   "metadata": {
    "interpreter": {
     "hash": "1ee38ef4a5a9feb55287fd749643f13d043cb0a7addaab2a9c224cbe137c0062"
    }
   }
  }
 },
 "nbformat": 4,
 "nbformat_minor": 2,
 "cells": [
  {
   "source": [
    "## One Time Pad\n",
    "- unbreakable cipher\n",
    "- not really used, because you have to have a key of the same bit length\n",
    "- key stream should only be used once\n",
    "- key should be true randomness\n",
    "\n",
    "## XOR\n",
    "\n",
    "- done on bits, 0 and 1s\n",
    "- 0011 XOR 0101 = 0110\n",
    "- both 0 or 1 = 0\n",
    "- one 0 and one 1 = 1"
   ],
   "cell_type": "markdown",
   "metadata": {}
  },
  {
   "cell_type": "code",
   "execution_count": 6,
   "metadata": {},
   "outputs": [],
   "source": [
    "def xor(x, s):\n",
    "    print (bin(x), 'xor', bin(s), '=', bin(x ^ s))"
   ]
  },
  {
   "cell_type": "code",
   "execution_count": 7,
   "metadata": {},
   "outputs": [
    {
     "output_type": "stream",
     "name": "stdout",
     "text": [
      "0b100 xor 0b1000 = 12\n0b100 xor 0b100 = 0\n0b11111111 xor 0b1 = 254\n0b11111111 xor 0b10000000 = 127\n"
     ]
    }
   ],
   "source": [
    "xor(4, 8)\n",
    "xor(4, 4)\n",
    "xor(255, 1)\n",
    "xor(255, 128)\n"
   ]
  },
  {
   "source": [
    "import random\n",
    "\n",
    "def generate_key_stream(n):\n",
    "    return bytes([random.randrange(0, 256) for i in range(n)])\n",
    "\n",
    "def xor_bytes(key_stream, message):\n",
    "    length = min(len(key_stream), len(message))\n",
    "    return bytes([key_stream[i] ^ message[i] for i in range(length)])\n",
    "\n",
    "message = \"DO ATTACK\"\n",
    "message = message.encode()\n",
    "key_stream = generate_key_stream(len(message))\n",
    "cipher = xor_bytes(key_stream, message)\n",
    "\n",
    "print(message)\n",
    "print(key_stream)\n",
    "print(cipher)\n",
    "print(xor_bytes(key_stream, cipher))\n"
   ],
   "cell_type": "code",
   "metadata": {},
   "execution_count": 13,
   "outputs": [
    {
     "output_type": "stream",
     "name": "stdout",
     "text": [
      "b'DO ATTACK'\nb'\\xae\\xc4\\x08\\xfa\\x97\\xd2\\xd3o\\xf9'\nb'\\xea\\x8b(\\xbb\\xc3\\x86\\x92,\\xb2'\nb'DO ATTACK'\n"
     ]
    }
   ]
  },
  {
   "cell_type": "code",
   "execution_count": null,
   "metadata": {},
   "outputs": [],
   "source": []
  }
 ]
}