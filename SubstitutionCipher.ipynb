{
 "metadata": {
  "language_info": {
   "codemirror_mode": {
    "name": "ipython",
    "version": 3
   },
   "file_extension": ".py",
   "mimetype": "text/x-python",
   "name": "python",
   "nbconvert_exporter": "python",
   "pygments_lexer": "ipython3",
   "version": "3.8.5-final"
  },
  "orig_nbformat": 2,
  "kernelspec": {
   "name": "python3",
   "display_name": "Python 3.8.5 64-bit",
   "metadata": {
    "interpreter": {
     "hash": "1ee38ef4a5a9feb55287fd749643f13d043cb0a7addaab2a9c224cbe137c0062"
    }
   }
  }
 },
 "nbformat": 4,
 "nbformat_minor": 2,
 "cells": [
  {
   "source": [
    "### Substitution Cipher\n",
    "- permutations\n",
    "- 5x4x3x2x1, etc\n",
    "- instead of shifting, using permutations to substitue chars in a message"
   ],
   "cell_type": "markdown",
   "metadata": {}
  },
  {
   "cell_type": "code",
   "execution_count": 3,
   "metadata": {},
   "outputs": [],
   "source": [
    "import random\n",
    "from itertools import permutations"
   ]
  },
  {
   "cell_type": "code",
   "execution_count": 4,
   "metadata": {},
   "outputs": [
    {
     "output_type": "stream",
     "name": "stdout",
     "text": [
      "(1, 2, 3)\n(1, 3, 2)\n(2, 1, 3)\n(2, 3, 1)\n(3, 1, 2)\n(3, 2, 1)\n"
     ]
    }
   ],
   "source": [
    "my_list = [1,2,3]\n",
    "list_of_permutation = permutations(my_list)\n",
    "for permutation in list_of_permutation:\n",
    "    print(permutation)"
   ]
  },
  {
   "cell_type": "code",
   "execution_count": 21,
   "metadata": {},
   "outputs": [],
   "source": [
    "def generate_key():\n",
    "    letters = \"ABCDEFGHIJKLMNOPQRSTUVWXYZ\"\n",
    "    cletters = list(letters)\n",
    "    key = {}\n",
    "    for c in letters:\n",
    "        key[c] = cletters.pop(random.randint(0, len(cletters)- 1))\n",
    "    return key\n"
   ]
  },
  {
   "cell_type": "code",
   "execution_count": 20,
   "metadata": {},
   "outputs": [],
   "source": [
    "def encrypt(key, message):\n",
    "    cipher = \"\"\n",
    "    for c in message:\n",
    "        if c in key:\n",
    "            cipher += key[c]\n",
    "        else: \n",
    "            cipher += c\n",
    "    return cipher"
   ]
  },
  {
   "cell_type": "code",
   "execution_count": 27,
   "metadata": {},
   "outputs": [],
   "source": [
    "def get_decryption_key(key):\n",
    "    dkey = {}\n",
    "    for c in key:\n",
    "        dkey[key[c]] = c\n",
    "    return dkey"
   ]
  },
  {
   "cell_type": "code",
   "execution_count": 33,
   "metadata": {},
   "outputs": [
    {
     "output_type": "stream",
     "name": "stdout",
     "text": [
      "{'A': 'T', 'B': 'V', 'C': 'O', 'D': 'K', 'E': 'G', 'F': 'X', 'G': 'Q', 'H': 'W', 'I': 'S', 'J': 'L', 'K': 'Z', 'L': 'I', 'M': 'N', 'N': 'E', 'O': 'H', 'P': 'Y', 'Q': 'M', 'R': 'C', 'S': 'R', 'T': 'P', 'U': 'J', 'V': 'B', 'W': 'D', 'X': 'A', 'Y': 'F', 'Z': 'U'}\nFHJ TCG TDGRHNG\nYOU ARE AWESOME\n"
     ]
    }
   ],
   "source": [
    "key = generate_key()\n",
    "print(key)\n",
    "message = \"YOU ARE AWESOME\"\n",
    "cipher = encrypt(key, message)\n",
    "print(cipher)\n",
    "dkey = get_decryption_key(key)\n",
    "print(encrypt(dkey, cipher))"
   ]
  }
 ]
}