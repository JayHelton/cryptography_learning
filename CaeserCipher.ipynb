{
 "metadata": {
  "language_info": {
   "codemirror_mode": {
    "name": "ipython",
    "version": 3
   },
   "file_extension": ".py",
   "mimetype": "text/x-python",
   "name": "python",
   "nbconvert_exporter": "python",
   "pygments_lexer": "ipython3",
   "version": "3.8.5-final"
  },
  "orig_nbformat": 2,
  "kernelspec": {
   "name": "python3",
   "display_name": "Python 3.8.5 64-bit",
   "metadata": {
    "interpreter": {
     "hash": "1ee38ef4a5a9feb55287fd749643f13d043cb0a7addaab2a9c224cbe137c0062"
    }
   }
  }
 },
 "nbformat": 4,
 "nbformat_minor": 2,
 "cells": [
  {
   "source": [
    "### Caeser Ciphers\n",
    "- older ciphers teach important rules of security\n",
    "- were considered secure, but broken\n",
    "\n",
    "### Challenges\n",
    "- alice -> message -> bob\n",
    "- afraid messengers would get captured, so cipher was made\n",
    "\n",
    "### Simple\n",
    "- alice has message and key\n",
    "- bob has same key and can decrypt\n",
    "- Simple cipher is just characters being shifted by a variable amount\\\n",
    "- downfall -> if you know the alg, you can easily break the code\n"
   ],
   "cell_type": "markdown",
   "metadata": {}
  },
  {
   "source": [
    "def generate_key(n):\n",
    "    letters = \"ABCDEFGHIJKLMNOPQRSTUVWXYZ\"\n",
    "    key = {}\n",
    "    cnt = 0\n",
    "    for c in letters:\n",
    "        key[c] = letters[(cnt + n) % len(letters)]\n",
    "        cnt += 1\n",
    "    return key"
   ],
   "cell_type": "code",
   "metadata": {},
   "execution_count": 12,
   "outputs": []
  },
  {
   "cell_type": "code",
   "execution_count": 13,
   "metadata": {},
   "outputs": [
    {
     "output_type": "stream",
     "name": "stdout",
     "text": [
      "{'A': 'D', 'B': 'E', 'C': 'F', 'D': 'G', 'E': 'H', 'F': 'I', 'G': 'J', 'H': 'K', 'I': 'L', 'J': 'M', 'K': 'N', 'L': 'O', 'M': 'P', 'N': 'Q', 'O': 'R', 'P': 'S', 'Q': 'T', 'R': 'U', 'S': 'V', 'T': 'W', 'U': 'X', 'V': 'Y', 'W': 'Z', 'X': 'A', 'Y': 'B', 'Z': 'C'}\n"
     ]
    }
   ],
   "source": [
    "key = generate_key(3)\n",
    "print(key)"
   ]
  },
  {
   "cell_type": "code",
   "execution_count": 14,
   "metadata": {},
   "outputs": [],
   "source": [
    "def encrypt(key, message):\n",
    "    cipher = \"\"\n",
    "    for c in message:\n",
    "        if c in key:\n",
    "            cipher += key[c]\n",
    "        else:\n",
    "            cipher += c\n",
    "    return cipher"
   ]
  },
  {
   "cell_type": "code",
   "execution_count": 15,
   "metadata": {},
   "outputs": [
    {
     "output_type": "stream",
     "name": "stdout",
     "text": [
      "BRX DUH DZVRPH\n"
     ]
    }
   ],
   "source": [
    "message = \"YOU ARE AWSOME\"\n",
    "cipher = encrypt(key, message)\n",
    "print(cipher)"
   ]
  },
  {
   "cell_type": "code",
   "execution_count": 17,
   "metadata": {},
   "outputs": [],
   "source": [
    "def get_decryption_key(key):\n",
    "    dkey = {}\n",
    "    for c in key:\n",
    "        dkey[key[c]] = c\n",
    "    return dkey"
   ]
  },
  {
   "cell_type": "code",
   "execution_count": 18,
   "metadata": {},
   "outputs": [
    {
     "output_type": "stream",
     "name": "stdout",
     "text": [
      "{'D': 'A', 'E': 'B', 'F': 'C', 'G': 'D', 'H': 'E', 'I': 'F', 'J': 'G', 'K': 'H', 'L': 'I', 'M': 'J', 'N': 'K', 'O': 'L', 'P': 'M', 'Q': 'N', 'R': 'O', 'S': 'P', 'T': 'Q', 'U': 'R', 'V': 'S', 'W': 'T', 'X': 'U', 'Y': 'V', 'Z': 'W', 'A': 'X', 'B': 'Y', 'C': 'Z'}\n"
     ]
    }
   ],
   "source": [
    "dkey = get_decryption_key(key)\n",
    "print(dkey)"
   ]
  },
  {
   "cell_type": "code",
   "execution_count": 19,
   "metadata": {},
   "outputs": [
    {
     "output_type": "stream",
     "name": "stdout",
     "text": [
      "YOU ARE AWSOME\n"
     ]
    }
   ],
   "source": [
    "print(encrypt(dkey, cipher))"
   ]
  },
  {
   "cell_type": "code",
   "execution_count": null,
   "metadata": {},
   "outputs": [],
   "source": []
  },
  {
   "source": [
    "### Breaking the Cipher"
   ],
   "cell_type": "markdown",
   "metadata": {}
  },
  {
   "cell_type": "code",
   "execution_count": 20,
   "metadata": {},
   "outputs": [
    {
     "output_type": "stream",
     "name": "stdout",
     "text": [
      "BRX DUH DZVRPH\nCSY EVI EAWSQI\nDTZ FWJ FBXTRJ\nEUA GXK GCYUSK\nFVB HYL HDZVTL\nGWC IZM IEAWUM\nHXD JAN JFBXVN\nIYE KBO KGCYWO\nJZF LCP LHDZXP\nKAG MDQ MIEAYQ\nLBH NER NJFBZR\nMCI OFS OKGCAS\nNDJ PGT PLHDBT\nOEK QHU QMIECU\nPFL RIV RNJFDV\nQGM SJW SOKGEW\nRHN TKX TPLHFX\nSIO ULY UQMIGY\nTJP VMZ VRNJHZ\nUKQ WNA WSOKIA\nVLR XOB XTPLJB\nWMS YPC YUQMKC\nXNT ZQD ZVRNLD\nYOU ARE AWSOME\nZPV BSF BXTPNF\nAQW CTG CYUQOG\n"
     ]
    }
   ],
   "source": [
    "for i in range(26):\n",
    "    dkey = generate_key(i)\n",
    "    message = encrypt(dkey, cipher)\n",
    "    print(message)"
   ]
  },
  {
   "cell_type": "code",
   "execution_count": null,
   "metadata": {},
   "outputs": [],
   "source": []
  }
 ]
}